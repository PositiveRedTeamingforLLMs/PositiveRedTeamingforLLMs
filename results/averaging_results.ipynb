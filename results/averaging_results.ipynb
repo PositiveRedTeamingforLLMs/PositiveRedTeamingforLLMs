{
 "cells": [
  {
   "cell_type": "markdown",
   "id": "6017ab64",
   "metadata": {},
   "source": [
    "In this notebook we average the data accumulated over two runs for each GPT model for each type of experiment. \n",
    "\n",
    "Each run consisted of 100 experiments for each red teaming context. \n",
    "\n",
    "We average the metric results for each context and we calculate their standard deviations. "
   ]
  },
  {
   "cell_type": "code",
   "execution_count": null,
   "id": "d4181a99",
   "metadata": {},
   "outputs": [],
   "source": [
    "import numpy as np\n",
    "import json\n",
    "import os"
   ]
  },
  {
   "cell_type": "code",
   "execution_count": null,
   "id": "d048e3bf",
   "metadata": {},
   "outputs": [],
   "source": [
    "folders_arithmetic_low_35 = ['arithmetic_low_gpt_3.5_part_1', 'arithmetic_low_gpt_3.5_part_2']\n",
    "folders_arithmetic_high_35 = ['arithmetic_high_gpt_3.5_part_1', 'arithmetic_high_gpt_3.5_part_2']\n",
    "folders_puzzle_35 = ['puzzle_low_gpt_3.5_part_1', 'puzzle_low_gpt_3.5_part_2']\n",
    "\n",
    "folders_arithmetic_low_4 = ['arithmetic_low_gpt_4_part_1', 'arithmetic_low_gpt_4_part_2']\n",
    "folders_arithmetic_high_4 = ['arithmetic_high_gpt_4_part_1', 'arithmetic_high_gpt_4_part_2']\n",
    "folders_puzzle_4 = ['puzzle_low_gpt_4_part_1', 'puzzle_low_gpt_4_part_2']"
   ]
  },
  {
   "cell_type": "code",
   "execution_count": null,
   "id": "e28f2ed4",
   "metadata": {},
   "outputs": [],
   "source": [
    "folders = [\n",
    "    folders_arithmetic_low_35, folders_arithmetic_high_35,\n",
    "    folders_puzzle_35, folders_arithmetic_low_4,\n",
    "    folders_arithmetic_high_4, folders_puzzle_4\n",
    "]"
   ]
  },
  {
   "cell_type": "code",
   "execution_count": null,
   "id": "1e849df8",
   "metadata": {},
   "outputs": [],
   "source": [
    "out_names = [\n",
    "    'arithmetic_low_gpt_3.5_avg', 'arithmetic_high_gpt_3.5_avg',\n",
    "    'puzzle_gpt_3.5_avg', 'arithmetic_low_gpt_4_avg',\n",
    "    'arithmetic_high_gpt_4_avg', 'puzzle_gpt_4_avg'\n",
    "]"
   ]
  },
  {
   "cell_type": "code",
   "execution_count": null,
   "id": "982e8b63",
   "metadata": {},
   "outputs": [],
   "source": [
    "def average_metrics(a, b, a_rate, b_rate):\n",
    "    n_runs = 100\n",
    "    n = n_runs * a_rate\n",
    "    m = n_runs * b_rate\n",
    "    obj = {}\n",
    "    metrics = ['abs_edit_distance', 'rel_edit_distance', \n",
    "               'abs_distance', 'rel_distance',\n",
    "               'accuracy']\n",
    "        \n",
    "    for metric in metrics:\n",
    "        a_mean = a[metric]['mean']\n",
    "        b_mean = b[metric]['mean']\n",
    "        \n",
    "        a_std = a[metric]['std']\n",
    "        b_std = b[metric]['std']\n",
    "        n = 100\n",
    "        combined_var = ((n * (a_std**2) + m * (b_std**2)) / (n + m)) + \\\n",
    "                  (n * m * ((a_mean - b_mean) ** 2) / ((n + m) ** 2))\n",
    "        \n",
    "        obj[metric] = {\n",
    "            'mean': (a_mean * n + b_mean * m) / (n+m),\n",
    "            'std': np.sqrt(combined_var)\n",
    "        }\n",
    "    \n",
    "    return obj"
   ]
  },
  {
   "cell_type": "code",
   "execution_count": null,
   "id": "8abec1a3",
   "metadata": {},
   "outputs": [],
   "source": [
    "for files, out in zip(folders, out_names):\n",
    "    with open(f'{files[0]}/results.json', 'r') as f:\n",
    "        file_0 = json.loads(f.read())\n",
    "    with open(f'{files[1]}/results.json', 'r') as f:\n",
    "        file_1 = json.loads(f.read())\n",
    "    \n",
    "    out_arr = []\n",
    "    \n",
    "    for a, b in zip(file_0, file_1):\n",
    "        out_obj = {\n",
    "            'name': a['name'],\n",
    "            'no_context': average_metrics(a['no_context'], b['no_context'], a['extraction_rate'], b['extraction_rate']),\n",
    "            'context': average_metrics(a['context'], b['context'], a['extraction_rate'], b['extraction_rate']),\n",
    "            'extraction_rate': np.mean([a['extraction_rate'], b['extraction_rate']])\n",
    "        }\n",
    "        out_arr.append(out_obj)\n",
    "        \n",
    "    with open(f'{out}_results_new.json', 'w') as f:\n",
    "        f.write(json.dumps(out_arr, indent=4))"
   ]
  }
 ],
 "metadata": {
  "kernelspec": {
   "display_name": "Python 3 (ipykernel)",
   "language": "python",
   "name": "python3"
  },
  "language_info": {
   "codemirror_mode": {
    "name": "ipython",
    "version": 3
   },
   "file_extension": ".py",
   "mimetype": "text/x-python",
   "name": "python",
   "nbconvert_exporter": "python",
   "pygments_lexer": "ipython3",
   "version": "3.10.9"
  }
 },
 "nbformat": 4,
 "nbformat_minor": 5
}
